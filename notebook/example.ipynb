{
 "cells": [
  {
   "cell_type": "code",
   "execution_count": 1,
   "metadata": {},
   "outputs": [],
   "source": [
    "from collections import namedtuple"
   ]
  },
  {
   "cell_type": "code",
   "execution_count": 2,
   "metadata": {},
   "outputs": [],
   "source": [
    "DataIngestionConfig = (\"DataIngestConfig\", \n",
    "[\"dataset_download_url\",\"tgz_download_dir\",\"raw_data_dir\", \"ingested_test_dir\"])"
   ]
  },
  {
   "cell_type": "markdown",
   "metadata": {},
   "source": [
    "1. Download URL\n",
    "2. Download Folder (compressed file)\n",
    "3. Extract Folder (extracted file)\n",
    "4. Train Dataset Folder"
   ]
  },
  {
   "cell_type": "code",
   "execution_count": null,
   "metadata": {},
   "outputs": [],
   "source": [
    "DataIngestionConfig(dataset_download_url = \"afafs\",\n",
    "tgz_download_dir = 'asdas' )"
   ]
  }
 ],
 "metadata": {
  "kernelspec": {
   "display_name": "Python 3.7.0",
   "language": "python",
   "name": "python3"
  },
  "language_info": {
   "codemirror_mode": {
    "name": "ipython",
    "version": 3
   },
   "file_extension": ".py",
   "mimetype": "text/x-python",
   "name": "python",
   "nbconvert_exporter": "python",
   "pygments_lexer": "ipython3",
   "version": "3.7.0"
  },
  "orig_nbformat": 4,
  "vscode": {
   "interpreter": {
    "hash": "ef4c2e07fba7373616ff23d38e248e2c9defd4b6e5d10c393627f1f0637c687d"
   }
  }
 },
 "nbformat": 4,
 "nbformat_minor": 2
}
